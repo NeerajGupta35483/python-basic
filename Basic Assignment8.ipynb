{
 "cells": [
  {
   "cell_type": "markdown",
   "id": "05fa701c",
   "metadata": {},
   "source": [
    "1. Is the Python Standard Library included with PyInputPlus?\n",
    "Ans: No, PyInputPlus is not a part of Python Standard Library, it needs to be installed explicitly using the command !pip install PyInputPlus"
   ]
  },
  {
   "cell_type": "code",
   "execution_count": 2,
   "id": "03e23e05",
   "metadata": {},
   "outputs": [
    {
     "name": "stdout",
     "output_type": "stream",
     "text": [
      "Requirement already satisfied: PyInputPlus in c:\\users\\neeraj\\anaconda3\\lib\\site-packages (0.2.12)\n",
      "Requirement already satisfied: pysimplevalidate>=0.2.7 in c:\\users\\neeraj\\anaconda3\\lib\\site-packages (from PyInputPlus) (0.2.12)\n",
      "Requirement already satisfied: stdiomask>=0.0.3 in c:\\users\\neeraj\\anaconda3\\lib\\site-packages (from PyInputPlus) (0.0.6)\n"
     ]
    }
   ],
   "source": [
    "!pip install PyInputPlus"
   ]
  },
  {
   "cell_type": "markdown",
   "id": "dbe774a9",
   "metadata": {},
   "source": [
    "2. Why is PyInputPlus commonly imported with import pyinputplus as pypi?\n",
    "Ans: You can import the module with import pyinputplus as pyip so that you can enter a shorter name when calling the module's functions.\n",
    "\n",
    "3. How do you distinguish between inputInt() and inputFloat()?\n",
    "Ans: inputInt() function Accepts an integer value. This also takes additional parameters min, max, greaterThan and lessThan for bounds. And it always returns an int.\n",
    "\n",
    "Whereas inputFloat() function Accepts a floating-point numeric value. this also takes additional min, max, greaterThan and lessThan parameters. and always returns a float."
   ]
  },
  {
   "cell_type": "code",
   "execution_count": 4,
   "id": "b511b725",
   "metadata": {},
   "outputs": [
    {
     "name": "stdout",
     "output_type": "stream",
     "text": [
      "Give the Integer Value5.8\n",
      "'5.8' is not an integer.\n",
      "Give the Integer Value5\n",
      "5\n"
     ]
    }
   ],
   "source": [
    "import pyinputplus as pyip\n",
    "intValue = pyip.inputInt(\"Give the Integer Value\")\n",
    "print(intValue)"
   ]
  },
  {
   "cell_type": "code",
   "execution_count": 5,
   "id": "be955772",
   "metadata": {},
   "outputs": [
    {
     "name": "stdout",
     "output_type": "stream",
     "text": [
      "Give the Float Value4\n",
      "4.0\n"
     ]
    }
   ],
   "source": [
    "floatValue = pyip.inputFloat(\"Give the Float Value\")\n",
    "print(floatValue)"
   ]
  },
  {
   "cell_type": "markdown",
   "id": "45433151",
   "metadata": {},
   "source": [
    "4. Using PyInputPlus, how do you ensure that the user enters a whole number between 0 and 99?\n",
    "Ans: PyInputPlus module provides a function called as inputInt() which only returns only integer values. inorder to restrict the input between 0 and 99, i'ii use parameters like min & max to ensure that user enters the values between the defined range only."
   ]
  },
  {
   "cell_type": "code",
   "execution_count": 6,
   "id": "50f43618",
   "metadata": {},
   "outputs": [
    {
     "name": "stdout",
     "output_type": "stream",
     "text": [
      "Enter a number: 120\n",
      "Number must be at maximum 100.\n",
      "Enter a number: 34\n",
      "34\n"
     ]
    }
   ],
   "source": [
    "import pyinputplus as pyip\n",
    "wholenumber = pyip.inputInt(prompt='Enter a number: ', min=0, max=100)\n",
    "print(wholenumber)"
   ]
  },
  {
   "cell_type": "markdown",
   "id": "40e0f25f",
   "metadata": {},
   "source": [
    "5. What is transferred to the keyword arguments allowRegexes and blockRegexes?\n",
    "Ans: we can use allowRegexes and blockRegexes keyword arguments to take list of regular expression strings to determine what the pyinputplus function will reject or accept valid input."
   ]
  },
  {
   "cell_type": "markdown",
   "id": "d60e5e3e",
   "metadata": {},
   "source": [
    "response = pyip.inputNum(\"Enter a Number/Roman Number:\",allowRegexes=[r'(I|V|X|L|C|D|M)+', r'zero']) # It will accept ROMAN NUMBERS\n",
    "Enter a Number/Roman Number:x\n",
    "'x' is not a number.\n",
    "Enter a Number/Roman Number:XII\n",
    "response = pyip.inputNum(blockRegexes=[r'[02468]$']) # Blocks the even number\n",
    "24\n",
    "This response is invalid.\n",
    "23\n",
    "6. If a blank input is entered three times, what does inputStr(limit=3) do?\n",
    "Ans: The statement inputStr(limit=3) will throw two exceptions ValidationException and RetryLimitException. The first exception is thrown because blank values are not allowed by inputStr() function by default. if we want to consider blank values as valid input, we have to set blank=True.\n",
    "\n",
    "The second exception is occured because we have reached the max limit we have specified by using limit parameter. inorder to avoid this exception we can use default parameter to return a default value when max limit is reached.\n",
    "\n",
    "inp = pyip.inputStr(\"Enter the String...\",limit=3)\n",
    "Enter the String...\n",
    "Blank values are not allowed.\n",
    "Enter the String...\n",
    "Blank values are not allowed.\n",
    "Enter the String...\n",
    "Blank values are not allowed.\n",
    "---------------------------------------------------------------------------\n",
    "ValidationException                       Traceback (most recent call last)\n",
    "~\\anaconda3\\lib\\site-packages\\pyinputplus\\__init__.py in _genericInput(prompt, default, timeout, limit, applyFunc, validationFunc, postValidateApplyFunc, passwordMask)\n",
    "    166         try:\n",
    "--> 167             possibleNewUserInput = validationFunc(\n",
    "    168                 userInput\n",
    "\n",
    "~\\anaconda3\\lib\\site-packages\\pyinputplus\\__init__.py in <lambda>(value)\n",
    "    242 \n",
    "--> 243     validationFunc = lambda value: pysv._prevalidationCheck(\n",
    "    244         value, blank=blank, strip=strip, allowRegexes=allowRegexes, blockRegexes=blockRegexes, excMsg=None,\n",
    "\n",
    "~\\anaconda3\\lib\\site-packages\\pysimplevalidate\\__init__.py in _prevalidationCheck(value, blank, strip, allowRegexes, blockRegexes, excMsg)\n",
    "    249         # value is blank but blanks aren't allowed.\n",
    "--> 250         _raiseValidationException(_(\"Blank values are not allowed.\"), excMsg)\n",
    "    251     elif blank and value == \"\":\n",
    "\n",
    "~\\anaconda3\\lib\\site-packages\\pysimplevalidate\\__init__.py in _raiseValidationException(standardExcMsg, customExcMsg)\n",
    "    221     if customExcMsg is None:\n",
    "--> 222         raise ValidationException(str(standardExcMsg))\n",
    "    223     else:\n",
    "\n",
    "ValidationException: Blank values are not allowed.\n",
    "\n",
    "During handling of the above exception, another exception occurred:\n",
    "\n",
    "RetryLimitException                       Traceback (most recent call last)\n",
    "~\\AppData\\Local\\Temp/ipykernel_192/3209990795.py in <module>\n",
    "----> 1 inp = pyip.inputStr(\"Enter the String...\",limit=3)\n",
    "\n",
    "~\\anaconda3\\lib\\site-packages\\pyinputplus\\__init__.py in inputStr(prompt, default, blank, timeout, limit, strip, allowRegexes, blockRegexes, applyFunc, postValidateApplyFunc)\n",
    "    245     )[1]\n",
    "    246 \n",
    "--> 247     return _genericInput(\n",
    "    248         prompt=prompt,\n",
    "    249         default=default,\n",
    "\n",
    "~\\anaconda3\\lib\\site-packages\\pyinputplus\\__init__.py in _genericInput(prompt, default, timeout, limit, applyFunc, validationFunc, postValidateApplyFunc, passwordMask)\n",
    "    186                 else:\n",
    "    187                     # If there is no default, then raise the timeout/limit exception.\n",
    "--> 188                     raise limitOrTimeoutException\n",
    "    189             else:\n",
    "    190                 # If there was no timeout/limit exceeded, let the user enter input again.\n",
    "\n",
    "RetryLimitException: \n",
    "7. If blank input is entered three times, what does inputStr(limit=3, default='hello') do?\n",
    "Ans: Since the default parameter is set to hello. after blank input is entered three times instead of raising RetryLimitException exception. the function will return hello as response to the calling function\n",
    "\n",
    "inp = pyip.inputStr(\"Enter the String...\",limit=3,default='hello')\n",
    "print(inp)\n",
    "Enter the String...\n",
    "Blank values are not allowed.\n",
    "Enter the String...\n",
    "Blank values are not allowed.\n",
    "Enter the String...\n",
    "Blank values are not allowed.\n",
    "hello"
   ]
  }
 ],
 "metadata": {
  "kernelspec": {
   "display_name": "Python 3 (ipykernel)",
   "language": "python",
   "name": "python3"
  },
  "language_info": {
   "codemirror_mode": {
    "name": "ipython",
    "version": 3
   },
   "file_extension": ".py",
   "mimetype": "text/x-python",
   "name": "python",
   "nbconvert_exporter": "python",
   "pygments_lexer": "ipython3",
   "version": "3.9.7"
  }
 },
 "nbformat": 4,
 "nbformat_minor": 5
}
