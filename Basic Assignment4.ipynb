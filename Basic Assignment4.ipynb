{
 "cells": [
  {
   "cell_type": "code",
   "execution_count": 1,
   "id": "7ed4f6b1",
   "metadata": {},
   "outputs": [
    {
     "name": "stdout",
     "output_type": "stream",
     "text": [
      "[2, 4, 'hello', 8, 10]\n"
     ]
    }
   ],
   "source": [
    "spam=[2,4,6,8,10]\n",
    "spam[2]= 'hello'\n",
    "print(spam)"
   ]
  },
  {
   "cell_type": "code",
   "execution_count": 2,
   "id": "4a41c0f8",
   "metadata": {},
   "outputs": [
    {
     "name": "stdout",
     "output_type": "stream",
     "text": [
      "d\n"
     ]
    }
   ],
   "source": [
    "spam=['a', 'b', 'c', 'd']\n",
    "print(spam[int(int('3' * 2) / 11)])"
   ]
  },
  {
   "cell_type": "code",
   "execution_count": 3,
   "id": "aa69d808",
   "metadata": {},
   "outputs": [
    {
     "name": "stdout",
     "output_type": "stream",
     "text": [
      "d\n"
     ]
    }
   ],
   "source": [
    "print(spam[-1])"
   ]
  },
  {
   "cell_type": "code",
   "execution_count": 4,
   "id": "6187f5af",
   "metadata": {},
   "outputs": [
    {
     "name": "stdout",
     "output_type": "stream",
     "text": [
      "['a', 'b']\n"
     ]
    }
   ],
   "source": [
    "print(spam[:2])"
   ]
  },
  {
   "cell_type": "code",
   "execution_count": null,
   "id": "d8eff1e8",
   "metadata": {},
   "outputs": [],
   "source": [
    "6.What is the value of bacon.index('cat')?"
   ]
  },
  {
   "cell_type": "code",
   "execution_count": 5,
   "id": "a22d3026",
   "metadata": {},
   "outputs": [
    {
     "name": "stdout",
     "output_type": "stream",
     "text": [
      "1\n"
     ]
    }
   ],
   "source": [
    "bacon=[3.14, 'cat', 11, 'cat', True]\n",
    "print(bacon.index('cat'))"
   ]
  },
  {
   "cell_type": "code",
   "execution_count": null,
   "id": "039c7610",
   "metadata": {},
   "outputs": [],
   "source": [
    "7.How does bacon.append(99) change the look of the\n",
    "list value in bacon?"
   ]
  },
  {
   "cell_type": "code",
   "execution_count": 6,
   "id": "2387362a",
   "metadata": {},
   "outputs": [
    {
     "name": "stdout",
     "output_type": "stream",
     "text": [
      "[3.14, 'cat', 11, 'cat', True, 99]\n"
     ]
    }
   ],
   "source": [
    "bacon.append(99)\n",
    "print(bacon)"
   ]
  },
  {
   "cell_type": "code",
   "execution_count": null,
   "id": "85542e54",
   "metadata": {},
   "outputs": [],
   "source": [
    "8.How does bacon.remove('cat') change the \n",
    "look of the list in bacon?"
   ]
  },
  {
   "cell_type": "code",
   "execution_count": 7,
   "id": "3c3d3f48",
   "metadata": {},
   "outputs": [
    {
     "name": "stdout",
     "output_type": "stream",
     "text": [
      "[3.14, 11, 'cat', True, 99]\n"
     ]
    }
   ],
   "source": [
    "bacon.remove('cat')\n",
    "print(bacon)"
   ]
  },
  {
   "cell_type": "code",
   "execution_count": null,
   "id": "bbd6e35d",
   "metadata": {},
   "outputs": [],
   "source": [
    "9.What are the list concatenation and list\n",
    "replication operators?\n",
    "\n"
   ]
  },
  {
   "cell_type": "code",
   "execution_count": 8,
   "id": "cbc1061f",
   "metadata": {},
   "outputs": [
    {
     "name": "stdout",
     "output_type": "stream",
     "text": [
      "[1, 2, 3, 4, 5, 6, 7, 8]\n",
      "(1, 2, 3, 4, 5, 6, 7, 8)\n"
     ]
    }
   ],
   "source": [
    "l1=[1,2,3,4]\n",
    "l2=[5,6,7,8]\n",
    "l3= l1 + l2\n",
    "l4=(*l1,*l2)\n",
    "print(l3)\n",
    "print(l4)"
   ]
  },
  {
   "cell_type": "code",
   "execution_count": null,
   "id": "76939f4e",
   "metadata": {},
   "outputs": [],
   "source": [
    "10. What is difference between the list methods append() and i"
   ]
  },
  {
   "cell_type": "code",
   "execution_count": null,
   "id": "7c901a67",
   "metadata": {},
   "outputs": [],
   "source": [
    "11.What are the two methods for removing \n",
    "items from a list?\n",
    "\n",
    "Ans: remove() , pop()"
   ]
  },
  {
   "cell_type": "code",
   "execution_count": null,
   "id": "49c7ca5c",
   "metadata": {},
   "outputs": [],
   "source": [
    "12.Describe how list values and \n",
    "string values are identical.\n",
    "Ans: l1=['h','e','l','l','o','w']\n",
    "String= 'hellow'"
   ]
  },
  {
   "cell_type": "code",
   "execution_count": null,
   "id": "723b6068",
   "metadata": {},
   "outputs": [],
   "source": [
    "13.What's the difference between tuples and lists?\n",
    "\n",
    "list is mutable but tupple is immutable"
   ]
  },
  {
   "cell_type": "code",
   "execution_count": null,
   "id": "3e530add",
   "metadata": {},
   "outputs": [],
   "source": [
    "14.How do you type a tuple value that\n",
    "only contains the integer 42?\n",
    "\n",
    "Ans: a = (42,)"
   ]
  },
  {
   "cell_type": "code",
   "execution_count": null,
   "id": "316b9ff3",
   "metadata": {},
   "outputs": [],
   "source": [
    "15.How do you get a list value's tuple form? How do \n",
    "you get a tuple value's list form?\n",
    "\n",
    "a= [(a,b,c),(d,e,f),(g,h,i)]\n",
    "b= ([1,2,3],[4,5,6],[7,8,9])"
   ]
  },
  {
   "cell_type": "code",
   "execution_count": null,
   "id": "52bb71b4",
   "metadata": {},
   "outputs": [],
   "source": [
    "16.Variables that \"contain\" list values are not neces\n",
    "sarily lists themselves. Instead, what do they contain?\n",
    "\n",
    "ANs: they contain address of the list"
   ]
  },
  {
   "cell_type": "code",
   "execution_count": null,
   "id": "c345beea",
   "metadata": {},
   "outputs": [],
   "source": [
    "17.How do you distinguish between copy.copy() and \n",
    "copy.deepcopy()"
   ]
  },
  {
   "cell_type": "code",
   "execution_count": 9,
   "id": "8a766884",
   "metadata": {},
   "outputs": [
    {
     "name": "stdout",
     "output_type": "stream",
     "text": [
      "Displaying value befor copying:\n",
      "1 2 [3, 4] 5 6 \r\n",
      "Displaying value after copying:\n",
      "1 2 [10, 4] 5 6 \n",
      "\n",
      "-----------------------------------------------------------\n",
      "\n",
      "Displaying value before deep copying:\n",
      "1 2 [3, 4] 5 6 \r\n",
      "The new list after deep copying\n",
      "1 2 [10, 4] 5 6 \r\n",
      "The original list\n",
      "1 2 [3, 4] 5 6 "
     ]
    }
   ],
   "source": [
    "# copy.copy()\n",
    "import copy\n",
    "l1=[1,2,[3,4],5,6]\n",
    "l2=copy.copy(l1)\n",
    "print(\"Displaying value befor copying:\")\n",
    "for i in range(0,len(l1)):   \n",
    "   print (l1[i],end=\" \")\n",
    "print(\"\\r\")\n",
    "l2[2][0]= 10\n",
    "print(\"Displaying value after copying:\")\n",
    "for i in range(0,len( l1)):   \n",
    "   print (l1[i],end=\" \")\n",
    "\n",
    "print(\"\\n\")\n",
    "print(\"-----------------------------------------------------------\\n\")\n",
    "# copy.deepcopy()\n",
    "l3=[1,2,[3,4],5,6]\n",
    "l4=copy.deepcopy(l1)\n",
    "\n",
    "print(\"Displaying value before deep copying:\")\n",
    "for i in range(0,len(l3)):   \n",
    "   print(l3[i],end=\" \")\n",
    "\n",
    "print(\"\\r\")\n",
    "l4[2][0]= 10\n",
    "\n",
    "print(\"The new list after deep copying\")\n",
    "for i in range(0,len(l3)):   \n",
    "   print(l4[i],end=\" \")\n",
    "print(\"\\r\")\n",
    "\n",
    "print(\"The original list\")\n",
    "for i in range(0,len(l3)):   \n",
    "   print (l3[i],end=\" \")"
   ]
  },
  {
   "cell_type": "code",
   "execution_count": null,
   "id": "9e06ad66",
   "metadata": {},
   "outputs": [],
   "source": []
  }
 ],
 "metadata": {
  "kernelspec": {
   "display_name": "Python 3 (ipykernel)",
   "language": "python",
   "name": "python3"
  },
  "language_info": {
   "codemirror_mode": {
    "name": "ipython",
    "version": 3
   },
   "file_extension": ".py",
   "mimetype": "text/x-python",
   "name": "python",
   "nbconvert_exporter": "python",
   "pygments_lexer": "ipython3",
   "version": "3.9.7"
  }
 },
 "nbformat": 4,
 "nbformat_minor": 5
}
