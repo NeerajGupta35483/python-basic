{
 "cells": [
  {
   "cell_type": "markdown",
   "id": "2b36e3e3",
   "metadata": {},
   "source": [
    "1.What does an empty dictionary's code look like?"
   ]
  },
  {
   "cell_type": "markdown",
   "id": "7fdcd9a4",
   "metadata": {},
   "source": [
    "d= {}"
   ]
  },
  {
   "cell_type": "markdown",
   "id": "1b64a8cc",
   "metadata": {},
   "source": [
    "2.What is the value of a dictionary value with the key 'foo' and the value 42?"
   ]
  },
  {
   "cell_type": "code",
   "execution_count": null,
   "id": "a4717836",
   "metadata": {},
   "outputs": [],
   "source": [
    "dict={‘foo’: 42}"
   ]
  },
  {
   "cell_type": "raw",
   "id": "186f5a3d",
   "metadata": {},
   "source": [
    "3.What is the most significant distinction between a dictionary and a list?\n",
    "\n",
    "Ans: dictionary is key-value pair and list contains only value\n",
    "\n",
    "Ans: throws an error as ‘foo’ is not present in the dictionary\n",
    "\n",
    "5.If a dictionary is stored in spam, what is the difference between the expressions 'cat' in spam and 'cat' in spam.keys()?\n",
    "\n",
    "Ans:'cat'in spam is value and 'cat' in spam.values() is a key\n",
    "\n",
    "6.If a dictionary is stored in spam, what is the difference between the expressions 'cat' in spam and 'cat' in spam.values()?\n",
    "\n",
    "Ans:‘cat’ in spam checks whether there is a ‘cat’ key in the dictionary and ‘cat’ in spam.values() checks whether there is a value ‘cat’ for one of the keys in spam\n",
    "\n",
    "spam.setdefault('color' : 'black')\n",
    "\n",
    "8.How do you \"pretty print\" dictionary values using which module and function?"
   ]
  },
  {
   "cell_type": "code",
   "execution_count": 1,
   "id": "505e29c7",
   "metadata": {},
   "outputs": [
    {
     "name": "stdout",
     "output_type": "stream",
     "text": [
      "**** Using Preety Print ****\n",
      "{'anotherDict': {'A': 1, 'B': 2},\n",
      " 'atanu': 'A programmer',\n",
      " 'fast': 'In a quick manner'}\n"
     ]
    }
   ],
   "source": [
    "import pprint\n",
    "myDict={\"fast\":\"In a quick manner\",\n",
    "       \"atanu\": \"A programmer\",\n",
    "       \"anotherDict\":{\"A\":1,\"B\":2}}\n",
    "print(\"**** Using Preety Print ****\")\n",
    "pprint.pprint(myDict)"
   ]
  },
  {
   "cell_type": "code",
   "execution_count": null,
   "id": "524fd2a8",
   "metadata": {},
   "outputs": [],
   "source": []
  }
 ],
 "metadata": {
  "kernelspec": {
   "display_name": "Python 3 (ipykernel)",
   "language": "python",
   "name": "python3"
  },
  "language_info": {
   "codemirror_mode": {
    "name": "ipython",
    "version": 3
   },
   "file_extension": ".py",
   "mimetype": "text/x-python",
   "name": "python",
   "nbconvert_exporter": "python",
   "pygments_lexer": "ipython3",
   "version": "3.9.7"
  }
 },
 "nbformat": 4,
 "nbformat_minor": 5
}
