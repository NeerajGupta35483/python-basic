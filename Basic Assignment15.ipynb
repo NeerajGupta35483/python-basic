{
 "cells": [
  {
   "cell_type": "markdown",
   "id": "c9613554",
   "metadata": {},
   "source": [
    "1.How many seconds are in an hour? Use the interactive interpreter as a calculator and multiply the number of seconds in a minute (60) by the number of minutes in an hour (also 60).\n",
    "Ans: 3600 seconds are in an hour\n",
    "\n",
    "2.Assign the result from the previous task (seconds in an hour) to a variable called seconds_per_hour."
   ]
  },
  {
   "cell_type": "code",
   "execution_count": 1,
   "id": "a10bdd5e",
   "metadata": {},
   "outputs": [
    {
     "name": "stdout",
     "output_type": "stream",
     "text": [
      "Enter Hour2\n"
     ]
    }
   ],
   "source": [
    "val = int(input(\"Enter Hour\"))"
   ]
  },
  {
   "cell_type": "code",
   "execution_count": 2,
   "id": "98d4bb77",
   "metadata": {},
   "outputs": [
    {
     "name": "stdout",
     "output_type": "stream",
     "text": [
      "The result in seconds_per_hour 7200\n"
     ]
    }
   ],
   "source": [
    "seconds_per_hour = val * 60 * 60\n",
    "print(\"The result in seconds_per_hour\",seconds_per_hour)"
   ]
  },
  {
   "cell_type": "markdown",
   "id": "5ea238f8",
   "metadata": {},
   "source": [
    "3.How many seconds do you think there are in a day? Make use of the variables seconds per hour and minutes per hour."
   ]
  },
  {
   "cell_type": "code",
   "execution_count": 3,
   "id": "f8b93945",
   "metadata": {},
   "outputs": [
    {
     "name": "stdout",
     "output_type": "stream",
     "text": [
      "Enter Day2\n",
      "Hour= 48\n",
      "The result in minute_per_hour 2880\n",
      "The result in seconds_per_hour 172800\n"
     ]
    }
   ],
   "source": [
    "val = int(input(\"Enter Day\"))\n",
    "hour_per_day = val * 24\n",
    "print(\"Hour=\",hour_per_day)\n",
    "minutes_per_hour = hour_per_day * 60\n",
    "print(\"The result in minute_per_hour\",minutes_per_hour)\n",
    "seconds_per_hour = minutes_per_hour * 60\n",
    "print(\"The result in seconds_per_hour\",seconds_per_hour)"
   ]
  },
  {
   "cell_type": "markdown",
   "id": "f083849e",
   "metadata": {},
   "source": [
    "4.Calculate seconds per day again, but this time save the result in a variable called seconds_per_day"
   ]
  },
  {
   "cell_type": "code",
   "execution_count": 4,
   "id": "d1f38c70",
   "metadata": {},
   "outputs": [
    {
     "name": "stdout",
     "output_type": "stream",
     "text": [
      "Enter Day2\n",
      "The result in seconds_per_day is= 172800\n"
     ]
    }
   ],
   "source": [
    "val = int(input(\"Enter Day\"))\n",
    "seconds_per_day = val * 24 * 60 * 60\n",
    "print(\"The result in seconds_per_day is=\",seconds_per_day)"
   ]
  },
  {
   "cell_type": "markdown",
   "id": "019b5eca",
   "metadata": {},
   "source": [
    "5.Divide seconds_per_day by seconds_per_hour. Use floating-point (/) division."
   ]
  },
  {
   "cell_type": "code",
   "execution_count": 5,
   "id": "6ff9c517",
   "metadata": {},
   "outputs": [
    {
     "data": {
      "text/plain": [
       "1.0"
      ]
     },
     "execution_count": 5,
     "metadata": {},
     "output_type": "execute_result"
    }
   ],
   "source": [
    "seconds_per_day / seconds_per_hour"
   ]
  },
  {
   "cell_type": "markdown",
   "id": "a3a815a1",
   "metadata": {},
   "source": [
    "6.Divide seconds_per_day by seconds_per_hour, using integer (//) division. Did this number agree with the floating-point value from the previous question, aside from the final .0?"
   ]
  },
  {
   "cell_type": "code",
   "execution_count": 6,
   "id": "a9cd7ec4",
   "metadata": {},
   "outputs": [
    {
     "data": {
      "text/plain": [
       "1"
      ]
     },
     "execution_count": 6,
     "metadata": {},
     "output_type": "execute_result"
    }
   ],
   "source": [
    "seconds_per_day // seconds_per_hour"
   ]
  },
  {
   "cell_type": "markdown",
   "id": "1f412110",
   "metadata": {},
   "source": [
    "7.Write a generator, genPrimes, that returns the sequence of prime numbers on successive calls to its next() method: 2, 3, 5, 7, 11, ..."
   ]
  },
  {
   "cell_type": "code",
   "execution_count": 7,
   "id": "8fc3b4fa",
   "metadata": {},
   "outputs": [],
   "source": [
    "def genPrimes(n):\n",
    "    for i in range(2,n):\n",
    "        b = True\n",
    "        for a in range(2,i):\n",
    "            if(i%a == 0):\n",
    "                b = False\n",
    "        if(b):\n",
    "            yield i"
   ]
  },
  {
   "cell_type": "code",
   "execution_count": 8,
   "id": "b9451b04",
   "metadata": {},
   "outputs": [],
   "source": [
    "g=genPrimes(12)"
   ]
  },
  {
   "cell_type": "code",
   "execution_count": 9,
   "id": "41ac1456",
   "metadata": {},
   "outputs": [
    {
     "name": "stdout",
     "output_type": "stream",
     "text": [
      "2\n"
     ]
    }
   ],
   "source": [
    "print(g.__next__())"
   ]
  },
  {
   "cell_type": "code",
   "execution_count": 10,
   "id": "a5659a5e",
   "metadata": {},
   "outputs": [
    {
     "name": "stdout",
     "output_type": "stream",
     "text": [
      "3\n"
     ]
    }
   ],
   "source": [
    "print(g.__next__())"
   ]
  },
  {
   "cell_type": "code",
   "execution_count": 11,
   "id": "24619e7d",
   "metadata": {},
   "outputs": [
    {
     "name": "stdout",
     "output_type": "stream",
     "text": [
      "5\n"
     ]
    }
   ],
   "source": [
    "print(g.__next__())"
   ]
  },
  {
   "cell_type": "code",
   "execution_count": 12,
   "id": "6a2d4e6a",
   "metadata": {},
   "outputs": [
    {
     "name": "stdout",
     "output_type": "stream",
     "text": [
      "7\n"
     ]
    }
   ],
   "source": [
    "print(g.__next__())"
   ]
  },
  {
   "cell_type": "code",
   "execution_count": null,
   "id": "66871864",
   "metadata": {},
   "outputs": [],
   "source": []
  }
 ],
 "metadata": {
  "kernelspec": {
   "display_name": "Python 3 (ipykernel)",
   "language": "python",
   "name": "python3"
  },
  "language_info": {
   "codemirror_mode": {
    "name": "ipython",
    "version": 3
   },
   "file_extension": ".py",
   "mimetype": "text/x-python",
   "name": "python",
   "nbconvert_exporter": "python",
   "pygments_lexer": "ipython3",
   "version": "3.9.7"
  }
 },
 "nbformat": 4,
 "nbformat_minor": 5
}
