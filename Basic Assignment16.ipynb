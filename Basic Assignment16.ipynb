{
 "cells": [
  {
   "cell_type": "markdown",
   "id": "9ac6a2e0",
   "metadata": {},
   "source": [
    "1. Create a list called years_list, starting with the year of your birth, and each year thereafter until the year of your fifth birthday. For example, if you were born in 1980. the list would be years_list = [1980, 1981, 1982, 1983, 1984, 1985]."
   ]
  },
  {
   "cell_type": "code",
   "execution_count": 1,
   "id": "87524510",
   "metadata": {},
   "outputs": [
    {
     "name": "stdout",
     "output_type": "stream",
     "text": [
      "Enter Year of Birth2\n",
      "[2, 3, 4, 5, 6, 7]\n"
     ]
    }
   ],
   "source": [
    "yob = int(input(\"Enter Year of Birth\"))\n",
    "year_list = []\n",
    "for i in range(yob, (yob+6)):\n",
    "    year_list.append(i)\n",
    "print(year_list)"
   ]
  },
  {
   "cell_type": "markdown",
   "id": "d8545323",
   "metadata": {},
   "source": [
    "2.In which year in years_list was your third birthday? Remember, you were 0 years of age for your first year.\n",
    "Ans: In 1983\n",
    "\n",
    "3.In the years list, which year were you the oldest?\n",
    "Ans: In 1981\n",
    "\n",
    "4.Make a list called things with these three strings as elements: \"mozzarella\", \"cinderella\", \"salmonella\"."
   ]
  },
  {
   "cell_type": "code",
   "execution_count": null,
   "id": "33e0585c",
   "metadata": {},
   "outputs": [],
   "source": [
    "things = [\"mozzarella\", \"cinderella\", \"salmonella\"]"
   ]
  },
  {
   "cell_type": "markdown",
   "id": "3f32b1b6",
   "metadata": {},
   "source": [
    "5.Capitalize the element in things that refers to a person and then print the list. Did it change the element in the list"
   ]
  },
  {
   "cell_type": "code",
   "execution_count": 3,
   "id": "5e3e8bcc",
   "metadata": {},
   "outputs": [
    {
     "name": "stdout",
     "output_type": "stream",
     "text": [
      "['mozzarella', 'Cinderella', 'salmonella']\n"
     ]
    }
   ],
   "source": [
    "things = [\"mozzarella\", \"cinderella\", \"salmonella\"]\n",
    "thing_new = []\n",
    "\n",
    "for i in things:\n",
    "    if i == \"cinderella\":\n",
    "        l = i.capitalize()\n",
    "        thing_new.append(l)\n",
    "    else:\n",
    "        thing_new.append(i)\n",
    "            \n",
    "print(thing_new)\n"
   ]
  },
  {
   "cell_type": "markdown",
   "id": "1dfce16d",
   "metadata": {},
   "source": [
    "6.Make a surprise list with the elements \"Groucho,\" \"Chico,\" and \"Harpo.\""
   ]
  },
  {
   "cell_type": "code",
   "execution_count": null,
   "id": "2d688a9d",
   "metadata": {},
   "outputs": [],
   "source": [
    "surprise_list = [\"Groucho\", \"Chico\", \"Harpo\"]"
   ]
  },
  {
   "cell_type": "markdown",
   "id": "2622a849",
   "metadata": {},
   "source": [
    "7.Lowercase the last element of the surprise list, reverse it, and then capitalize it."
   ]
  },
  {
   "cell_type": "code",
   "execution_count": 5,
   "id": "75e90c35",
   "metadata": {},
   "outputs": [
    {
     "name": "stdout",
     "output_type": "stream",
     "text": [
      "['Groucho', 'Chico', 'harpo']\n",
      "['harpo', 'Chico', 'Groucho']\n",
      "['Harpo', 'Chico', 'Groucho']\n"
     ]
    }
   ],
   "source": [
    "surprise_list = [\"Groucho\", \"Chico\", \"Harpo\"]\n",
    "surpriselist_new = []\n",
    "for i in range(len(surprise_list)):\n",
    "    if surprise_list[i] == surprise_list[len(surprise_list)-1]:\n",
    "        l = surprise_list[i].lower()\n",
    "        surpriselist_new.append(l)\n",
    "    else:\n",
    "        surpriselist_new.append(surprise_list[i])\n",
    "print(surpriselist_new)\n",
    "surpriselist_new.reverse()\n",
    "print(surpriselist_new)\n",
    "surpriselist_new2 = []\n",
    "for i in surpriselist_new:\n",
    "    if i == \"harpo\":\n",
    "        l = i.capitalize()\n",
    "        surpriselist_new2.append(l)\n",
    "    else:\n",
    "        \n",
    "        surpriselist_new2.append(i)\n",
    "        \n",
    "print(surpriselist_new2)\n",
    "        \n",
    "    "
   ]
  },
  {
   "cell_type": "markdown",
   "id": "36ca7d2f",
   "metadata": {},
   "source": [
    "8.Make an English-to-French dictionary called e2f and print it. Here are your starter words: dog is chien, cat is chat, and walrus is morse."
   ]
  },
  {
   "cell_type": "code",
   "execution_count": null,
   "id": "d45ae729",
   "metadata": {},
   "outputs": [],
   "source": [
    "e2f = {\"dog\" : \"chien\", \"cat\" : \"chat\", \"warlus\" : \"morse\"}"
   ]
  },
  {
   "cell_type": "markdown",
   "id": "e6d8fa97",
   "metadata": {},
   "source": [
    "9.Write the French word for walrus in your three-word dictionary e2f."
   ]
  },
  {
   "cell_type": "code",
   "execution_count": 7,
   "id": "0b4e327e",
   "metadata": {},
   "outputs": [
    {
     "name": "stdout",
     "output_type": "stream",
     "text": [
      "French word of warlus is morse\n"
     ]
    }
   ],
   "source": [
    "e2f = {\"dog\" : \"chien\", \"cat\" : \"chat\", \"warlus\" : \"morse\"}\n",
    "print(\"French word of warlus is\",e2f.get(\"warlus\"))"
   ]
  },
  {
   "cell_type": "markdown",
   "id": "f2ad7bf4",
   "metadata": {},
   "source": [
    "10.Make a French-to-English dictionary called f2e from e2f. Use the items method."
   ]
  },
  {
   "cell_type": "code",
   "execution_count": 8,
   "id": "6963e5e3",
   "metadata": {},
   "outputs": [
    {
     "name": "stdout",
     "output_type": "stream",
     "text": [
      "{'chien': 'dog', 'chat': 'cat', 'morse': 'warlus'}\n"
     ]
    }
   ],
   "source": [
    "f2e = {v:k for k,v in e2f.items()}\n",
    "print(f2e)"
   ]
  },
  {
   "cell_type": "code",
   "execution_count": null,
   "id": "a31cd3c0",
   "metadata": {},
   "outputs": [],
   "source": [
    "11.Print the English version of the French word chien using f2e."
   ]
  },
  {
   "cell_type": "code",
   "execution_count": 9,
   "id": "f2ac49a2",
   "metadata": {},
   "outputs": [
    {
     "name": "stdout",
     "output_type": "stream",
     "text": [
      "English word of chien is dog\n"
     ]
    }
   ],
   "source": [
    "print(\"English word of chien is\",f2e.get(\"chien\"))"
   ]
  },
  {
   "cell_type": "markdown",
   "id": "84cbcc21",
   "metadata": {},
   "source": [
    "12.Make and print a set of English words from the keys in e2f."
   ]
  },
  {
   "cell_type": "code",
   "execution_count": 10,
   "id": "a240df26",
   "metadata": {},
   "outputs": [
    {
     "name": "stdout",
     "output_type": "stream",
     "text": [
      "{'cat', 'warlus', 'dog'}\n"
     ]
    }
   ],
   "source": [
    "s = set()\n",
    "for i in e2f.keys():\n",
    "    s.add(i)\n",
    "print(s)"
   ]
  },
  {
   "cell_type": "markdown",
   "id": "67779517",
   "metadata": {},
   "source": [
    "13.Make a multilevel dictionary called life. Use these strings for the topmost keys: 'animals', 'plants', and 'other'. Make the 'animals' key refer to another dictionary with the keys 'cats', 'octopi', and 'emus'. Make the 'cats' key refer to a list of strings with the values 'Henri', 'Grumpy', and 'Lucy'. Make all the other keys refer to empty dictionaries."
   ]
  },
  {
   "cell_type": "code",
   "execution_count": null,
   "id": "3001399e",
   "metadata": {},
   "outputs": [],
   "source": [
    "life = {'animals' : {'cats' : ['Henri','Grumpy','Lucy'], 'octopi' : {}, 'emus' : {}}, 'plants' : {}, 'other' : {}}"
   ]
  },
  {
   "cell_type": "markdown",
   "id": "2513b262",
   "metadata": {},
   "source": [
    "14.Print the top-level keys of life."
   ]
  },
  {
   "cell_type": "code",
   "execution_count": 13,
   "id": "58e4102e",
   "metadata": {},
   "outputs": [
    {
     "name": "stdout",
     "output_type": "stream",
     "text": [
      "dict_keys(['animals', 'plants', 'other'])\n"
     ]
    }
   ],
   "source": [
    "life = {'animals' : {'cats' : ['Henri','Grumpy','Lucy'], 'octopi' : {}, 'emus' : {}}, 'plants' : {}, 'other' : {}}\n",
    "print(life.keys())"
   ]
  },
  {
   "cell_type": "code",
   "execution_count": null,
   "id": "697e3b0c",
   "metadata": {},
   "outputs": [],
   "source": [
    "15.Print the keys for life['animals']."
   ]
  },
  {
   "cell_type": "code",
   "execution_count": 14,
   "id": "78155c71",
   "metadata": {},
   "outputs": [
    {
     "name": "stdout",
     "output_type": "stream",
     "text": [
      "dict_keys(['cats', 'octopi', 'emus'])\n"
     ]
    }
   ],
   "source": [
    "dict = life['animals']\n",
    "print(dict.keys())"
   ]
  },
  {
   "cell_type": "markdown",
   "id": "33f05be7",
   "metadata": {},
   "source": [
    "16.Print the values for life['animals']['cats']\n"
   ]
  },
  {
   "cell_type": "code",
   "execution_count": 15,
   "id": "68cf008d",
   "metadata": {},
   "outputs": [
    {
     "name": "stdout",
     "output_type": "stream",
     "text": [
      "['Henri', 'Grumpy', 'Lucy']\n"
     ]
    }
   ],
   "source": [
    "print(life['animals']['cats'])"
   ]
  },
  {
   "cell_type": "code",
   "execution_count": null,
   "id": "4d44f1ef",
   "metadata": {},
   "outputs": [],
   "source": []
  }
 ],
 "metadata": {
  "kernelspec": {
   "display_name": "Python 3 (ipykernel)",
   "language": "python",
   "name": "python3"
  },
  "language_info": {
   "codemirror_mode": {
    "name": "ipython",
    "version": 3
   },
   "file_extension": ".py",
   "mimetype": "text/x-python",
   "name": "python",
   "nbconvert_exporter": "python",
   "pygments_lexer": "ipython3",
   "version": "3.9.7"
  }
 },
 "nbformat": 4,
 "nbformat_minor": 5
}
